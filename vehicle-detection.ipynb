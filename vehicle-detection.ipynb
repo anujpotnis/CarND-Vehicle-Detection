{
 "cells": [
  {
   "cell_type": "markdown",
   "metadata": {
    "deletable": true,
    "editable": true
   },
   "source": [
    "### Tuning Parameters"
   ]
  },
  {
   "cell_type": "code",
   "execution_count": null,
   "metadata": {
    "collapsed": true,
    "deletable": true,
    "editable": true
   },
   "outputs": [],
   "source": [
    "# Define HOG parameters\n",
    "p_HOG = {'orient':9, 'pix_per_cell':8, 'cell_per_block':2}\n",
    "\n",
    "ystart = 400\n",
    "ystop = 656\n",
    "scale = 1.5"
   ]
  },
  {
   "cell_type": "markdown",
   "metadata": {
    "deletable": true,
    "editable": true
   },
   "source": [
    "### Library Import and Data Read"
   ]
  },
  {
   "cell_type": "code",
   "execution_count": null,
   "metadata": {
    "collapsed": false,
    "deletable": true,
    "editable": true
   },
   "outputs": [],
   "source": [
    "import numpy as np\n",
    "import cv2\n",
    "import glob\n",
    "import matplotlib.image as mpimg\n",
    "import matplotlib.pyplot as plt\n",
    "%matplotlib inline\n",
    "\n",
    "from skimage.feature import hog\n",
    "from skimage import color, exposure\n",
    "from sklearn.cross_validation import train_test_split\n",
    "from sklearn.svm import LinearSVC\n",
    "from sklearn.preprocessing import StandardScaler\n",
    "from sklearn import decomposition\n",
    "from scipy.ndimage.measurements import label\n",
    "\n",
    "from moviepy.editor import VideoFileClip\n",
    "from IPython.display import HTML"
   ]
  },
  {
   "cell_type": "code",
   "execution_count": null,
   "metadata": {
    "collapsed": true,
    "deletable": true,
    "editable": true
   },
   "outputs": [],
   "source": [
    "# cars = glob.glob('./DATASETS/vehicles/*/*.png')\n",
    "# notcars = glob.glob('./DATASETS/non-vehicles/*/*.png')"
   ]
  },
  {
   "cell_type": "code",
   "execution_count": null,
   "metadata": {
    "collapsed": true,
    "deletable": true,
    "editable": true
   },
   "outputs": [],
   "source": [
    "cars = glob.glob('./DATASETS/vehicles_smallset/*/*.jpeg')\n",
    "notcars = glob.glob('./DATASETS/non-vehicles_smallset/*/*.jpeg')"
   ]
  },
  {
   "cell_type": "markdown",
   "metadata": {
    "deletable": true,
    "editable": true
   },
   "source": [
    "### Feature Extraction"
   ]
  },
  {
   "cell_type": "code",
   "execution_count": null,
   "metadata": {
    "collapsed": false,
    "deletable": true,
    "editable": true
   },
   "outputs": [],
   "source": [
    "# Define a function to compute binned color features  \n",
    "def bin_spatial(img, size=(32, 32)):\n",
    "    # Use cv2.resize().ravel() to create the feature vector\n",
    "    features = cv2.resize(img, size).ravel() \n",
    "    return features\n",
    "\n",
    "# Define a function to compute color histogram features  \n",
    "def color_hist(img, nbins=32, bins_range=(0, 256)):\n",
    "    # Compute the histogram of the color channels separately\n",
    "    channel1_hist = np.histogram(img[:,:,0], bins=nbins, range=bins_range)\n",
    "    channel2_hist = np.histogram(img[:,:,1], bins=nbins, range=bins_range)\n",
    "    channel3_hist = np.histogram(img[:,:,2], bins=nbins, range=bins_range)\n",
    "    # Concatenate the histograms into a single feature vector\n",
    "    features = np.concatenate((channel1_hist[0], channel2_hist[0], channel3_hist[0]))\n",
    "    # Return the individual histograms, bin_centers and feature vector\n",
    "    return features\n",
    "\n",
    "# def my_hog():"
   ]
  },
  {
   "cell_type": "code",
   "execution_count": null,
   "metadata": {
    "collapsed": false,
    "deletable": true,
    "editable": true
   },
   "outputs": [],
   "source": [
    "def extract_features(img_name):\n",
    "    img = cv2.imread(img_name)\n",
    "    img_hsv = cv2.cvtColor(img, cv2.COLOR_BGR2HSV)\n",
    "    img_gray = cv2.cvtColor(img, cv2.COLOR_BGR2GRAY)\n",
    "    features_hog = hog(img_gray,\n",
    "                       orientations=p_HOG['orient'],\n",
    "                       pixels_per_cell=(p_HOG['pix_per_cell'], p_HOG['pix_per_cell']),\n",
    "                       cells_per_block=(p_HOG['cell_per_block'], p_HOG['cell_per_block']),\n",
    "                       visualise=False, feature_vector=True)\n",
    "#     features_spatial = bin_spatial(img)\n",
    "    features_color_hist = color_hist(img)\n",
    "#     print(\" \")\n",
    "#     print(np.max(features_hog))\n",
    "#     print(np.max(features_spatial))\n",
    "#     print(np.max(features_color_hist))\n",
    "    print('features_hog ', features_hog.shape )\n",
    "#     print('features_spatial ',features_spatial.shape)\n",
    "    print('features_color_hist ', features_color_hist.shape)\n",
    "    \n",
    "#     return (np.concatenate((features_hog, features_spatial, features_color_hist)))\n",
    "    return (np.concatenate((features_hog,features_color_hist)))\n",
    "#     return (np.concatenate((features_hog, features_spatial)))"
   ]
  },
  {
   "cell_type": "code",
   "execution_count": null,
   "metadata": {
    "collapsed": false,
    "deletable": true,
    "editable": true
   },
   "outputs": [],
   "source": [
    "features_list = []\n",
    "\n",
    "for car in cars:\n",
    "    features = extract_features(car)\n",
    "    features_list.append(features)\n",
    "    \n",
    "for notcar in notcars:\n",
    "    features = extract_features(notcar)\n",
    "    features_list.append(features)\n",
    "    \n",
    "features_array = np.asarray(features_list)\n",
    "features_array.shape"
   ]
  },
  {
   "cell_type": "markdown",
   "metadata": {
    "deletable": true,
    "editable": true
   },
   "source": [
    "### Feature Normalization\n"
   ]
  },
  {
   "cell_type": "code",
   "execution_count": null,
   "metadata": {
    "collapsed": false,
    "deletable": true,
    "editable": true,
    "scrolled": true
   },
   "outputs": [],
   "source": [
    "## why not vstack?\n",
    "# y = np.vstack((np.ones((5,1)), np.zeros((4,1))))"
   ]
  },
  {
   "cell_type": "code",
   "execution_count": null,
   "metadata": {
    "collapsed": false,
    "deletable": true,
    "editable": true
   },
   "outputs": [],
   "source": [
    "y_data = np.hstack((np.ones(len(cars)), np.zeros(len(notcars))))"
   ]
  },
  {
   "cell_type": "code",
   "execution_count": null,
   "metadata": {
    "collapsed": false,
    "deletable": true,
    "editable": true
   },
   "outputs": [],
   "source": [
    "print(y_data.shape)"
   ]
  },
  {
   "cell_type": "code",
   "execution_count": null,
   "metadata": {
    "collapsed": false,
    "deletable": true,
    "editable": true,
    "scrolled": true
   },
   "outputs": [],
   "source": [
    "def scale_features(features):\n",
    "    # Fit a per-column scaler\n",
    "    XScaler = StandardScaler().fit(features)\n",
    "    # Apply the scaler to X\n",
    "    return XScaler.transform(features)"
   ]
  },
  {
   "cell_type": "code",
   "execution_count": null,
   "metadata": {
    "collapsed": false,
    "deletable": true,
    "editable": true
   },
   "outputs": [],
   "source": [
    "XScaler = StandardScaler().fit(features_array)\n",
    "X_data = XScaler.transform(features_array)"
   ]
  },
  {
   "cell_type": "code",
   "execution_count": null,
   "metadata": {
    "collapsed": false,
    "deletable": true,
    "editable": true
   },
   "outputs": [],
   "source": [
    "print(XScaler)"
   ]
  },
  {
   "cell_type": "code",
   "execution_count": null,
   "metadata": {
    "collapsed": false,
    "deletable": true,
    "editable": true
   },
   "outputs": [],
   "source": [
    "X_data.shape"
   ]
  },
  {
   "cell_type": "code",
   "execution_count": null,
   "metadata": {
    "collapsed": false,
    "deletable": true,
    "editable": true
   },
   "outputs": [],
   "source": [
    "# PCA = decomposition.PCA(n_components=500)\n",
    "# PCA.fit(X_data)\n",
    "# X_data = PCA.transform(X_data)\n",
    "# X_data.shape"
   ]
  },
  {
   "cell_type": "code",
   "execution_count": null,
   "metadata": {
    "collapsed": false,
    "deletable": true,
    "editable": true,
    "scrolled": true
   },
   "outputs": [],
   "source": [
    "# plt.figure()\n",
    "# plt.boxplot(features_array, 1, '')"
   ]
  },
  {
   "cell_type": "code",
   "execution_count": null,
   "metadata": {
    "collapsed": false,
    "deletable": true,
    "editable": true
   },
   "outputs": [],
   "source": [
    "# plt.figure()\n",
    "# plt.boxplot(X_data, 1, '')"
   ]
  },
  {
   "cell_type": "code",
   "execution_count": null,
   "metadata": {
    "collapsed": false,
    "deletable": true,
    "editable": true
   },
   "outputs": [],
   "source": [
    "if len(features_array) > 0:\n",
    "    car_ind = np.random.randint(0, len(cars))\n",
    "    # Plot an example of raw and scaled features\n",
    "    fig = plt.figure(figsize=(12,4))\n",
    "    plt.subplot(131)\n",
    "    plt.imshow(mpimg.imread(cars[car_ind]))\n",
    "    plt.title('Original Image')\n",
    "    plt.subplot(132)\n",
    "    plt.plot(features_array[car_ind])\n",
    "    plt.title('Raw Features')\n",
    "    plt.subplot(133)\n",
    "    plt.plot(X_data[car_ind])\n",
    "    plt.title('Normalized Features')\n",
    "    fig.tight_layout()\n",
    "else: \n",
    "    print('Your function only returns empty feature vectors...')"
   ]
  },
  {
   "cell_type": "markdown",
   "metadata": {
    "deletable": true,
    "editable": true
   },
   "source": [
    "### SVM or Decision Tree or Neural Networks"
   ]
  },
  {
   "cell_type": "code",
   "execution_count": null,
   "metadata": {
    "collapsed": false,
    "deletable": true,
    "editable": true
   },
   "outputs": [],
   "source": [
    "# Split up data into randomized training and test sets\n",
    "rand_state = np.random.randint(0, 100)\n",
    "X_train, X_test, y_train, y_test = train_test_split(\n",
    "    X_data, y_data, test_size=0.2, random_state=rand_state)"
   ]
  },
  {
   "cell_type": "code",
   "execution_count": null,
   "metadata": {
    "collapsed": false,
    "deletable": true,
    "editable": true
   },
   "outputs": [],
   "source": [
    "svc = LinearSVC()\n",
    "svc.fit(X_train, y_train)"
   ]
  },
  {
   "cell_type": "code",
   "execution_count": null,
   "metadata": {
    "collapsed": false,
    "deletable": true,
    "editable": true
   },
   "outputs": [],
   "source": [
    "print('Test Accuracy of SVC = ', svc.score(X_test, y_test))"
   ]
  },
  {
   "cell_type": "markdown",
   "metadata": {
    "collapsed": true,
    "deletable": true,
    "editable": true
   },
   "source": [
    "## Test Phase"
   ]
  },
  {
   "cell_type": "code",
   "execution_count": null,
   "metadata": {
    "collapsed": true,
    "deletable": true,
    "editable": true
   },
   "outputs": [],
   "source": [
    "# Define a single function that can extract features using hog sub-sampling and make predictions\n",
    "def find_cars(img, ystart, ystop, scale, svc,  p_HOG):\n",
    "    draw_img = np.copy(img)\n",
    "    gray = cv2.cvtColor(img, cv2.COLOR_RGB2GRAY)\n",
    "    ## bounding boxes\n",
    "    bboxes=[]\n",
    "#     img = img.astype(np.float32)/255\n",
    "    img_roi = img[ystart:ystop,:,:]\n",
    "    if scale != 1:\n",
    "        imshape = img_roi.shape\n",
    "        img_roi = cv2.resize(img_roi, (np.int(imshape[1]/scale), np.int(imshape[0]/scale)))\n",
    "        \n",
    "    ch1 = img_roi[:,:,0]\n",
    "    ch2 = img_roi[:,:,1]\n",
    "    ch3 = img_roi[:,:,2]\n",
    "\n",
    "    # Define blocks and steps as above\n",
    "    # ch1.shape[1] = 1280\n",
    "    # nxblocks = 159     \n",
    "    nxblocks = (ch1.shape[1] // p_HOG['pix_per_cell'])-1\n",
    "    # ch1.shape[0] = 720\n",
    "    # nyblocks = 89\n",
    "    nyblocks = (ch1.shape[0] // p_HOG['pix_per_cell'])-1\n",
    "    # number of features per block = (2**2) * 9 = 36\n",
    "    nfeat_per_block = (p_HOG['cell_per_block']**2) * p_HOG['orient']\n",
    "    # 64 was the orginal sampling rate, with 8 cells and 8 pix per cell\n",
    "    window = 64\n",
    "    # nblocks_per_window = 7\n",
    "    nblocks_per_window = (window // p_HOG['pix_per_cell'])-1\n",
    "    cells_per_step = 2  # Instead of overlap, define how many cells to step\n",
    "    # nxsteps = 76\n",
    "    nxsteps = (nxblocks - nblocks_per_window) // cells_per_step\n",
    "    # nysteps = 41\n",
    "    nysteps = (nyblocks - nblocks_per_window) // cells_per_step\n",
    "    \n",
    "    # Compute individual channel HOG features for the entire image\n",
    "    features_hog_frame = hog(gray,\n",
    "                             orientations=p_HOG['orient'],\n",
    "                             pixels_per_cell=(p_HOG['pix_per_cell'],p_HOG['pix_per_cell']),\n",
    "                             cells_per_block=(p_HOG['cell_per_block'],p_HOG['cell_per_block']),\n",
    "                             visualise=False, feature_vector=False)\n",
    "    \n",
    "    for xb in range(nxsteps):\n",
    "        for yb in range(nysteps):\n",
    "            ypos = yb*cells_per_step\n",
    "            xpos = xb*cells_per_step\n",
    "            # Extract HOG for this patch\n",
    "#             print('features_hog_frame[ypos:ypos+nblocks_per_window, xpos:xpos+nblocks_per_window]')\n",
    "#             print(ypos, ypos+nblocks_per_window, xpos, xpos+nblocks_per_window)\n",
    "            features_hog = features_hog_frame[ypos:ypos+nblocks_per_window, xpos:xpos+nblocks_per_window].ravel() \n",
    "#             print('features_hog')\n",
    "#             print(features_hog.shape)\n",
    "            xleft = xpos*p_HOG['pix_per_cell']\n",
    "            ytop = ypos*p_HOG['pix_per_cell']\n",
    "\n",
    "            # Extract the image patch\n",
    "            img_patch = cv2.resize(img_roi[ytop:ytop+window, xleft:xleft+window], (64,64))\n",
    "          \n",
    "            # Get color features\n",
    "#             features_spatial = bin_spatial(img_patch)\n",
    "#             print('features_spatial ',features_spatial.shape)\n",
    "            \n",
    "            features_color_hist = color_hist(img_patch)\n",
    "#             print('features_color_hist', features_color_hist.shape)\n",
    "            \n",
    "#             print(\"Testing: \")\n",
    "#             print(np.max(features_hog))\n",
    "#             print(np.max(features_spatial))\n",
    "#             print(np.max(features_color_hist))\n",
    "\n",
    "            # Scale features and make a prediction\n",
    "#             test_features = np.hstack((spatial_features, hist_features, features_hog)).reshape(1, -1)\n",
    "#             test_features = np.concatenate((features_hog, features_spatial, features_color_hist)).reshape(1, -1)\n",
    "#             test_features = np.concatenate((features_hog, features_spatial)).reshape(1, -1)\n",
    "            test_features = np.concatenate((features_hog, features_color_hist )).reshape(1, -1)\n",
    "#             test_features = scale_features(test_features)\n",
    "            test_features = XScaler.transform(test_features)\n",
    "#             test_features = PCA.transform(test_features)\n",
    "            test_features.shape\n",
    "        \n",
    "            #test_features = X_scaler.transform(np.hstack((shape_feat, hist_feat)).reshape(1, -1))    \n",
    "            test_prediction = svc.predict(test_features)\n",
    "            \n",
    "            \n",
    "            if test_prediction == 1:\n",
    "                xbox_left = np.int(xleft*scale)\n",
    "                ytop_draw = np.int(ytop*scale)\n",
    "                win_draw = np.int(window*scale)\n",
    "                x1 = xbox_left\n",
    "                y1 = ystart+ytop_draw\n",
    "                x2 = xbox_left+win_draw\n",
    "                y2 = ystart+ytop_draw+win_draw\n",
    "                bboxes.append(((x1, y1),(x2,y2)))\n",
    "#                 print(\"bboxes\", bboxes)\n",
    "                cv2.rectangle(draw_img,(x1, y1),(x2,y2),(0,0,255),6) \n",
    "                \n",
    "    return draw_img, bboxes\n",
    "\n",
    "def add_heat(heatmap, bbox_list):\n",
    "    # Iterate through list of bboxes\n",
    "    for box in bbox_list:\n",
    "        # Add += 1 for all pixels inside each bbox\n",
    "        # Assuming each \"box\" takes the form ((x1, y1), (x2, y2))\n",
    "        heatmap[box[0][1]:box[1][1], box[0][0]:box[1][0]] += 1\n",
    "\n",
    "    # Return updated heatmap\n",
    "    return heatmap# Iterate through list of bboxes\n",
    "    \n",
    "def apply_threshold(heatmap, threshold):\n",
    "    # Zero out pixels below the threshold\n",
    "    heatmap[heatmap <= threshold] = 0\n",
    "    # Return thresholded map\n",
    "    return heatmap\n",
    "\n",
    "def draw_labeled_bboxes(img, labels):\n",
    "    # Iterate through all detected cars\n",
    "    for car_number in range(1, labels[1]+1):\n",
    "        # Find pixels with each car_number label value\n",
    "        nonzero = (labels[0] == car_number).nonzero()\n",
    "        # Identify x and y values of those pixels\n",
    "        nonzeroy = np.array(nonzero[0])\n",
    "        nonzerox = np.array(nonzero[1])\n",
    "        # Define a bounding box based on min/max x and y\n",
    "        bbox = ((np.min(nonzerox), np.min(nonzeroy)), (np.max(nonzerox), np.max(nonzeroy)))\n",
    "        # Draw the box on the image\n",
    "        cv2.rectangle(img, bbox[0], bbox[1], (0,0,255), 6)\n",
    "    # Return the image\n",
    "    return img"
   ]
  },
  {
   "cell_type": "code",
   "execution_count": null,
   "metadata": {
    "collapsed": true
   },
   "outputs": [],
   "source": [
    "# img = cv2.imread('./test_images/test1.jpg')\n",
    "# img_hsv = cv2.cvtColor(img, cv2.COLOR_BGR2HSV)\n",
    "# gray = cv2.cvtColor(img, cv2.COLOR_BGR2GRAY)\n",
    " "
   ]
  },
  {
   "cell_type": "code",
   "execution_count": null,
   "metadata": {
    "collapsed": true
   },
   "outputs": [],
   "source": [
    "def process_image(img):\n",
    "#     img_gray = cv2.cvtColor(img, cv2.COLOR_RGB2GRAY)\n",
    "    out_img, bbox_list = find_cars(img, ystart, ystop, scale, svc, p_HOG)\n",
    "    heat = np.zeros_like(out_img[:,:,0]).astype(np.float)\n",
    "\n",
    "    # Add heat to each box in box list\n",
    "    heat = add_heat(heat,bbox_list)\n",
    "\n",
    "    # Apply threshold to help remove false positives\n",
    "    heat = apply_threshold(heat,0.3)\n",
    "\n",
    "    # Visualize the heatmap when displaying    \n",
    "    heatmap = np.clip(heat, 0, 255)\n",
    "\n",
    "    # Find final boxes from heatmap using label function\n",
    "    labels = label(heatmap)\n",
    "    draw_img = draw_labeled_bboxes(np.copy(img), labels)\n",
    "    return draw_img"
   ]
  },
  {
   "cell_type": "code",
   "execution_count": null,
   "metadata": {
    "collapsed": false,
    "deletable": true,
    "editable": true
   },
   "outputs": [],
   "source": [
    "clip1 = VideoFileClip(\"./project_video.mp4\")\n",
    "vehicle_clip = clip1.fl_image(process_image)\n",
    "img = clip1.get_frame(9999999)\n",
    "\n",
    "out_img, bbox_list = find_cars(img, ystart, ystop, scale, svc, p_HOG)\n",
    "\n",
    "heat = np.zeros_like(out_img[:,:,0]).astype(np.float)\n",
    "\n",
    "# Add heat to each box in box list\n",
    "heat = add_heat(heat,bbox_list)\n",
    "    \n",
    "# Apply threshold to help remove false positives\n",
    "heat = apply_threshold(heat,0.3)\n",
    "\n",
    "# Visualize the heatmap when displaying    \n",
    "heatmap = np.clip(heat, 0, 255)\n",
    "\n",
    "# Find final boxes from heatmap using label function\n",
    "labels = label(heatmap)\n",
    "draw_img = draw_labeled_bboxes(np.copy(img), labels)\n",
    "\n",
    "fig = plt.figure()\n",
    "plt.subplot(121)\n",
    "plt.imshow(draw_img)\n",
    "plt.title('Car Positions')\n",
    "plt.subplot(122)\n",
    "plt.imshow(heatmap, cmap='gray')\n",
    "plt.title('Heat Map')\n",
    "fig.tight_layout()"
   ]
  },
  {
   "cell_type": "code",
   "execution_count": null,
   "metadata": {
    "collapsed": false
   },
   "outputs": [],
   "source": [
    "vehicle_output = './vehicle_output.mp4'\n",
    "%time vehicle_clip.write_videofile(vehicle_output, audio=False)"
   ]
  },
  {
   "cell_type": "code",
   "execution_count": null,
   "metadata": {
    "collapsed": false,
    "deletable": true,
    "editable": true
   },
   "outputs": [],
   "source": [
    "HTML(\"\"\"\n",
    "<video width=\"960\" height=\"540\" controls>\n",
    "  <source src=\"{0}\">\n",
    "</video>\n",
    "\"\"\".format(vehicle_output))"
   ]
  },
  {
   "cell_type": "code",
   "execution_count": null,
   "metadata": {
    "collapsed": true
   },
   "outputs": [],
   "source": []
  }
 ],
 "metadata": {
  "anaconda-cloud": {},
  "kernelspec": {
   "display_name": "Python 3",
   "language": "python",
   "name": "python3"
  },
  "language_info": {
   "codemirror_mode": {
    "name": "ipython",
    "version": 3
   },
   "file_extension": ".py",
   "mimetype": "text/x-python",
   "name": "python",
   "nbconvert_exporter": "python",
   "pygments_lexer": "ipython3",
   "version": "3.5.2"
  },
  "widgets": {
   "state": {},
   "version": "1.1.2"
  }
 },
 "nbformat": 4,
 "nbformat_minor": 1
}
