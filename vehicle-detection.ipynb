{
 "cells": [
  {
   "cell_type": "markdown",
   "metadata": {},
   "source": [
    "### Tuning Parameter"
   ]
  },
  {
   "cell_type": "code",
   "execution_count": null,
   "metadata": {
    "collapsed": true
   },
   "outputs": [],
   "source": [
    "# Define HOG parameters\n",
    "orient = 9\n",
    "pix_per_cell = 8\n",
    "cell_per_block = 2"
   ]
  },
  {
   "cell_type": "markdown",
   "metadata": {},
   "source": [
    "### Implementation"
   ]
  },
  {
   "cell_type": "code",
   "execution_count": null,
   "metadata": {
    "collapsed": true
   },
   "outputs": [],
   "source": [
    "import numpy as np\n",
    "import cv2\n",
    "import glob\n",
    "import matplotlib.image as mpimg\n",
    "import matplotlib.pyplot as plt\n",
    "%matplotlib inline\n",
    "\n",
    "from skimage.feature import hog\n",
    "from skimage import color, exposure\n",
    "from sklearn.cross_validation import train_test_split\n",
    "from sklearn.svm import LinearSVC"
   ]
  },
  {
   "cell_type": "code",
   "execution_count": null,
   "metadata": {
    "collapsed": true
   },
   "outputs": [],
   "source": [
    "cars = glob.glob('./DATASETS/vehicles_smallset/*/*.jpeg')\n",
    "notcars = glob.glob('./DATASETS/non-vehicles_smallset/*/*.jpeg')"
   ]
  },
  {
   "cell_type": "code",
   "execution_count": null,
   "metadata": {
    "collapsed": true
   },
   "outputs": [],
   "source": [
    "# # Define a function to return HOG features and visualization\n",
    "# def get_hog_features(img, orient, pix_per_cell, cell_per_block, vis, feature_vec):\n",
    "#         # Use skimage.hog() to get features only\n",
    "#         features = hog(img, orientations=orient, pixels_per_cell=(pix_per_cell,pix_per_cell), \n",
    "#                                   cells_per_block=(cell_per_block, cell_per_block), visualise=vis, feature_vector=feature_vec)\n",
    "#         return features"
   ]
  },
  {
   "cell_type": "code",
   "execution_count": null,
   "metadata": {
    "collapsed": true
   },
   "outputs": [],
   "source": [
    "# Define a function to compute binned color features  \n",
    "def bin_spatial(img, size=(32, 32)):\n",
    "    # Use cv2.resize().ravel() to create the feature vector\n",
    "    features = cv2.resize(img, size).ravel() \n",
    "    # Return the feature vector\n",
    "    return features"
   ]
  },
  {
   "cell_type": "code",
   "execution_count": null,
   "metadata": {
    "collapsed": true
   },
   "outputs": [],
   "source": [
    "# Define a function to compute color histogram features  \n",
    "def color_hist(img, nbins=32, bins_range=(0, 256)):\n",
    "    # Compute the histogram of the color channels separately\n",
    "    channel1_hist = np.histogram(img[:,:,0], bins=nbins, range=bins_range)\n",
    "    channel2_hist = np.histogram(img[:,:,1], bins=nbins, range=bins_range)\n",
    "    channel3_hist = np.histogram(img[:,:,2], bins=nbins, range=bins_range)\n",
    "    # Concatenate the histograms into a single feature vector\n",
    "    hist_features = np.concatenate((channel1_hist[0], channel2_hist[0], channel3_hist[0]))\n",
    "    # Return the individual histograms, bin_centers and feature vector\n",
    "    return hist_features"
   ]
  },
  {
   "cell_type": "markdown",
   "metadata": {},
   "source": [
    "### Normalize Features\n"
   ]
  },
  {
   "cell_type": "code",
   "execution_count": null,
   "metadata": {
    "collapsed": false
   },
   "outputs": [],
   "source": [
    "features_list = []\n",
    "for car in cars:\n",
    "    img_bgr = cv2.imread(car)\n",
    "    img_hsv = cv2.cvtColor(img_bgr, cv2.COLOR_BGR2HSV)\n",
    "    gray = cv2.cvtColor(img_bgr, cv2.COLOR_BGR2GRAY)\n",
    "    features_hog = hog(gray, orientations=orient, pixels_per_cell=(pix_per_cell,pix_per_cell), \n",
    "                                  cells_per_block=(cell_per_block, cell_per_block), visualise=False, feature_vector=True)\n",
    "    features_spatial = bin_spatial(img_bgr)\n",
    "    features_color_hist = color_hist(img_bgr)\n",
    "    features_list.append(np.concatenate((features_hog, features_spatial, features_color_hist)))\n",
    "    \n",
    "for notcar in notcars:\n",
    "    gray = cv2.cvtColor(cv2.imread(notcar), cv2.COLOR_BGR2GRAY)\n",
    "    features = hog(gray, orientations=orient, pixels_per_cell=(pix_per_cell,pix_per_cell), \n",
    "                                  cells_per_block=(cell_per_block, cell_per_block), visualise=False, feature_vector=True)\n",
    "    features_spatial = bin_spatial(img_bgr)\n",
    "    features_color_hist = color_hist(img_bgr)\n",
    "    features_list.append(np.concatenate((features_hog, features_spatial, features_color_hist)))\n",
    "\n",
    "features_array = np.asarray(features_list)\n",
    "features_array.shape"
   ]
  },
  {
   "cell_type": "code",
   "execution_count": null,
   "metadata": {
    "collapsed": false,
    "scrolled": true
   },
   "outputs": [],
   "source": [
    "## why not vstack?\n",
    "# y = np.vstack((np.ones((5,1)), np.zeros((4,1))))"
   ]
  },
  {
   "cell_type": "code",
   "execution_count": null,
   "metadata": {
    "collapsed": false
   },
   "outputs": [],
   "source": [
    "y = np.hstack((np.ones(len(cars)), \n",
    "              np.zeros(len(notcars))))"
   ]
  },
  {
   "cell_type": "code",
   "execution_count": null,
   "metadata": {
    "collapsed": false
   },
   "outputs": [],
   "source": [
    "print(y.shape)"
   ]
  },
  {
   "cell_type": "code",
   "execution_count": null,
   "metadata": {
    "collapsed": false,
    "scrolled": true
   },
   "outputs": [],
   "source": [
    "from sklearn.preprocessing import StandardScaler\n",
    "# Fit a per-column scaler\n",
    "X_scaler = StandardScaler().fit(features_array)\n",
    "# Apply the scaler to X\n",
    "scaled_X = X_scaler.transform(features_array)\n",
    "scaled_X.shape"
   ]
  },
  {
   "cell_type": "code",
   "execution_count": null,
   "metadata": {
    "collapsed": true
   },
   "outputs": [],
   "source": [
    "plt.figure()\n",
    "plt.boxplot(features_array, 1, '')"
   ]
  },
  {
   "cell_type": "code",
   "execution_count": null,
   "metadata": {
    "collapsed": true
   },
   "outputs": [],
   "source": [
    "plt.figure()\n",
    "plt.boxplot(scaled_X, 1, '')"
   ]
  },
  {
   "cell_type": "code",
   "execution_count": null,
   "metadata": {
    "collapsed": true
   },
   "outputs": [],
   "source": [
    "# def extract_features(imgs, cspace='RGB', spatial_size=(32, 32),\n",
    "#                         hist_bins=32, hist_range=(0, 256)):\n",
    "#     # Create a list to append feature vectors to\n",
    "#     features = []\n",
    "#     # Iterate through the list of images\n",
    "#     for file in imgs:\n",
    "#         # Read in each one by one\n",
    "#         image = mpimg.imread(file)\n",
    "#         # apply color conversion if other than 'RGB'\n",
    "#         if cspace != 'RGB':\n",
    "#             if cspace == 'HSV':\n",
    "#                 feature_image = cv2.cvtColor(image, cv2.COLOR_RGB2HSV)\n",
    "#             elif cspace == 'LUV':\n",
    "#                 feature_image = cv2.cvtColor(image, cv2.COLOR_RGB2LUV)\n",
    "#             elif cspace == 'HLS':\n",
    "#                 feature_image = cv2.cvtColor(image, cv2.COLOR_RGB2HLS)\n",
    "#             elif cspace == 'YUV':\n",
    "#                 feature_image = cv2.cvtColor(image, cv2.COLOR_RGB2YUV)\n",
    "#         else: feature_image = np.copy(image)      \n",
    "#         # Apply bin_spatial() to get spatial color features\n",
    "#         spatial_features = bin_spatial(feature_image, size=spatial_size)\n",
    "#         # Apply color_hist() also with a color space option now\n",
    "#         hist_features = color_hist(feature_image, nbins=hist_bins, bins_range=hist_range)\n",
    "#         # Append the new feature vector to the features list\n",
    "#         features.append(np.concatenate((spatial_features, hist_features)))\n",
    "#     # Return list of feature vectors\n",
    "#     return features"
   ]
  },
  {
   "cell_type": "code",
   "execution_count": null,
   "metadata": {
    "collapsed": true
   },
   "outputs": [],
   "source": [
    "# car_features = extract_features(cars, cspace='HSV', spatial_size=(32, 32),\n",
    "#                         hist_bins=32, hist_range=(0, 256))\n",
    "# notcar_features = extract_features(notcars, cspace='HSV', spatial_size=(32, 32),\n",
    "#                         hist_bins=32, hist_range=(0, 256))"
   ]
  },
  {
   "cell_type": "code",
   "execution_count": null,
   "metadata": {
    "collapsed": false
   },
   "outputs": [],
   "source": [
    "if len(features_array) > 0:\n",
    "    car_ind = np.random.randint(0, len(cars))\n",
    "    # Plot an example of raw and scaled features\n",
    "    fig = plt.figure(figsize=(12,4))\n",
    "    plt.subplot(131)\n",
    "    plt.imshow(mpimg.imread(cars[car_ind]))\n",
    "    plt.title('Original Image')\n",
    "    plt.subplot(132)\n",
    "    plt.plot(features_array[car_ind])\n",
    "    plt.title('Raw Features')\n",
    "    plt.subplot(133)\n",
    "    plt.plot(scaled_X[car_ind])\n",
    "    plt.title('Normalized Features')\n",
    "    fig.tight_layout()\n",
    "else: \n",
    "    print('Your function only returns empty feature vectors...')"
   ]
  },
  {
   "cell_type": "markdown",
   "metadata": {},
   "source": [
    "### SVM or Decision Tree or Neural Networks"
   ]
  },
  {
   "cell_type": "code",
   "execution_count": null,
   "metadata": {
    "collapsed": false
   },
   "outputs": [],
   "source": [
    "# Split up data into randomized training and test sets\n",
    "rand_state = np.random.randint(0, 100)\n",
    "X_train, X_test, y_train, y_test = train_test_split(\n",
    "    scaled_X, y, test_size=0.2, random_state=rand_state)"
   ]
  },
  {
   "cell_type": "code",
   "execution_count": null,
   "metadata": {
    "collapsed": false
   },
   "outputs": [],
   "source": [
    "svc = LinearSVC()\n",
    "svc.fit(X_train, y_train)"
   ]
  },
  {
   "cell_type": "code",
   "execution_count": null,
   "metadata": {
    "collapsed": false
   },
   "outputs": [],
   "source": [
    "print('Test Accuracy of SVC = ', svc.score(X_test, y_test))"
   ]
  },
  {
   "cell_type": "code",
   "execution_count": null,
   "metadata": {
    "collapsed": true
   },
   "outputs": [],
   "source": []
  }
 ],
 "metadata": {
  "anaconda-cloud": {},
  "kernelspec": {
   "display_name": "Python [conda root]",
   "language": "python",
   "name": "conda-root-py"
  },
  "language_info": {
   "codemirror_mode": {
    "name": "ipython",
    "version": 3
   },
   "file_extension": ".py",
   "mimetype": "text/x-python",
   "name": "python",
   "nbconvert_exporter": "python",
   "pygments_lexer": "ipython3",
   "version": "3.5.2"
  }
 },
 "nbformat": 4,
 "nbformat_minor": 1
}
